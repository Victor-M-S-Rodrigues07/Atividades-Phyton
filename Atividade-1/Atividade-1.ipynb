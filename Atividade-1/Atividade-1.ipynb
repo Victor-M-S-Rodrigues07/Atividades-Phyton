{
 "cells": [
  {
   "cell_type": "code",
   "execution_count": 2,
   "id": "c1711937",
   "metadata": {},
   "outputs": [
    {
     "name": "stdout",
     "output_type": "stream",
     "text": [
      "Expressão fixa: ((7 + 3) * (5 - 2))\n",
      "Resultado: 30\n"
     ]
    },
    {
     "data": {
      "text/plain": [
       "'tree_fixed.png'"
      ]
     },
     "execution_count": 2,
     "metadata": {},
     "output_type": "execute_result"
    }
   ],
   "source": [
    "class Node:\n",
    "    def __init__ (self, value, left=None, right=None):\n",
    "\n",
    "        self.value = value  \n",
    "        self.left = left\n",
    "        self.right = right\n",
    "\n",
    "    def is_leaf (self):\n",
    "\n",
    "        return self.left is None and self.right is None\n",
    "\n",
    "def evaluate (node):\n",
    "\n",
    "    if node.is_leaf():\n",
    "\n",
    "        return node.value\n",
    "    \n",
    "    left_val = evaluate (node.left)\n",
    "    right_val = evaluate (node.right)\n",
    "\n",
    "    if node.value == '+':\n",
    "\n",
    "        return left_val + right_val\n",
    "    \n",
    "    elif node.value == '-':\n",
    "\n",
    "        return left_val - right_val\n",
    "    \n",
    "    elif node.value == '*':\n",
    "\n",
    "        return left_val * right_val\n",
    "\n",
    "def infix (node):\n",
    "\n",
    "    if node.is_leaf():\n",
    "\n",
    "        return str (node.value)\n",
    "    \n",
    "    return '(' + infix(node.left) + ' ' + node.value + ' ' + infix(node.right) + ')'\n",
    "\n",
    "from graphviz import Digraph\n",
    "\n",
    "def visualize_tree (node, graph = None, parent_id = None):\n",
    "\n",
    "    if graph is None:\n",
    "\n",
    "        graph = Digraph()\n",
    "    \n",
    "    node_id = str (id (node))\n",
    "    graph.node (node_id, str (node.value))  \n",
    "\n",
    "    if parent_id is not None:\n",
    "\n",
    "        graph.edge (parent_id, node_id) \n",
    "\n",
    "    if node.left:\n",
    "\n",
    "        visualize_tree (node.left, graph, node_id)\n",
    "\n",
    "    if node.right:\n",
    "\n",
    "        visualize_tree (node.right, graph, node_id)\n",
    "\n",
    "    return graph\n",
    "\n",
    "n7 = Node (7)\n",
    "n3 = Node (3)\n",
    "n5 = Node (5)\n",
    "n2 = Node (2)\n",
    "\n",
    "plus = Node ('+', n7, n3)\n",
    "minus = Node ('-', n5, n2)\n",
    "root_fixed = Node ('*', plus, minus)\n",
    "\n",
    "print (\"Expressão fixa:\", infix (root_fixed))\n",
    "print (\"Resultado:\", evaluate (root_fixed))\n",
    "\n",
    "graph_fixed = visualize_tree (root_fixed)\n",
    "graph_fixed.render ('tree_fixed', format='png', view=True)"
   ]
  },
  {
   "cell_type": "code",
   "execution_count": 4,
   "id": "a42e0c45",
   "metadata": {},
   "outputs": [
    {
     "name": "stdout",
     "output_type": "stream",
     "text": [
      "Expressão: ((7 + 7) * 3)\n",
      "Resultado: 42\n"
     ]
    },
    {
     "data": {
      "text/plain": [
       "'tree_random.png'"
      ]
     },
     "execution_count": 4,
     "metadata": {},
     "output_type": "execute_result"
    }
   ],
   "source": [
    "import random\n",
    "\n",
    "def generate_random_tree():\n",
    "\n",
    "    a = Node (random.randint(1, 9))\n",
    "    b = Node (random.randint(1, 9))\n",
    "    c = Node (random.randint(1, 9))\n",
    "\n",
    "    op1 = random.choice (['+', '-', '*'])\n",
    "    op2 = random.choice (['+', '-', '*'])\n",
    "\n",
    "    first = Node (op1, a, b)\n",
    "    root = Node (op2, first, c)\n",
    "    return root\n",
    "\n",
    "root_random = generate_random_tree()\n",
    "\n",
    "print (\"Expressão:\", infix (root_random))\n",
    "print (\"Resultado:\", evaluate (root_random))\n",
    "\n",
    "graph_random = visualize_tree (root_random)\n",
    "graph_random.render ('tree_random', format = 'png', view = True)"
   ]
  }
 ],
 "metadata": {
  "kernelspec": {
   "display_name": "Python 3",
   "language": "python",
   "name": "python3"
  },
  "language_info": {
   "codemirror_mode": {
    "name": "ipython",
    "version": 3
   },
   "file_extension": ".py",
   "mimetype": "text/x-python",
   "name": "python",
   "nbconvert_exporter": "python",
   "pygments_lexer": "ipython3",
   "version": "3.13.7"
  }
 },
 "nbformat": 4,
 "nbformat_minor": 5
}
